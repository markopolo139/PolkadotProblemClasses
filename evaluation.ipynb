{
 "cells": [
  {
   "cell_type": "code",
   "execution_count": 1,
   "metadata": {},
   "outputs": [],
   "source": [
    "import pandas as pd\n",
    "import numpy as np"
   ]
  },
  {
   "cell_type": "markdown",
   "metadata": {},
   "source": [
    "Target function to be minimized:"
   ]
  },
  {
   "cell_type": "code",
   "execution_count": null,
   "metadata": {},
   "outputs": [],
   "source": [
    "def target(kpis):\n",
    "    return sum(5*(x_ref - x_ours) if x_ref > x_ours else x_ref - x_ours for x_ref, x_ours in kpis)"
   ]
  },
  {
   "cell_type": "markdown",
   "metadata": {},
   "source": [
    "### kips - criterias for our target function\n",
    "\n",
    "format: [(amount_ref, amount_ours), (variance_ref, variance_ours), (assignment_ref, assignment_ours)]\n",
    "\n",
    "- amount - total amount at stake (Summing up all the amounts from individual nominators who supported the selected validators) / **higher is better**\n",
    "- variance - variance in the stakes of selected validators / **lower is better**\n",
    "- assignment - score for assigning nominators to validators (Proposed approach: count the number of validators assigned to each nominator and square it. Then sum all the scores of individual nominators.) / **lower is better**"
   ]
  },
  {
   "cell_type": "code",
   "execution_count": null,
   "metadata": {},
   "outputs": [],
   "source": [
    "# Helper functions\n",
    "\n",
    "def getAmount(solution):\n",
    "    return solution[\"amount\"].sum()\n",
    "\n",
    "\n",
    "def getVariance(solution):\n",
    "    return solution[\"amount\"].var()\n",
    "\n",
    "def getAssignment(solution):\n",
    "    return 0"
   ]
  }
 ],
 "metadata": {
  "kernelspec": {
   "display_name": "pc-env",
   "language": "python",
   "name": "python3"
  },
  "language_info": {
   "codemirror_mode": {
    "name": "ipython",
    "version": 3
   },
   "file_extension": ".py",
   "mimetype": "text/x-python",
   "name": "python",
   "nbconvert_exporter": "python",
   "pygments_lexer": "ipython3",
   "version": "3.12.7"
  }
 },
 "nbformat": 4,
 "nbformat_minor": 2
}
