{
 "cells": [
  {
   "cell_type": "code",
   "execution_count": 2,
   "metadata": {},
   "outputs": [],
   "source": [
    "import pandas as pd\n",
    "import numpy as np"
   ]
  },
  {
   "cell_type": "markdown",
   "metadata": {},
   "source": [
    "Target function to be minimized:"
   ]
  },
  {
   "cell_type": "code",
   "execution_count": null,
   "metadata": {},
   "outputs": [],
   "source": [
    "def target(kpis):\n",
    "    return sum(5*(x_ref - x_ours) if x_ref > x_ours else x_ref - x_ours for x_ref, x_ours in kpis)"
   ]
  },
  {
   "cell_type": "markdown",
   "metadata": {},
   "source": [
    "### kips - criterias for our target function\n",
    "\n",
    "format: [(amount_ref, amount_ours), (variance_ref, variance_ours), (assignment_ref, assignment_ours)]\n",
    "\n",
    "- amount - total amount at stake (Summing up all the amounts from individual nominators who supported the selected validators) / **higher is better**\n",
    "- variance - variance in the stakes of selected validators / **lower is better**\n",
    "- assignment - score for assigning nominators to validators (Proposed approach: count the number of validators assigned to each nominator and square it. Then sum all the scores of individual nominators.) / **lower is better**\n",
    "\n",
    "\n",
    "#### Solution\n",
    "\n",
    "format: \n",
    "\n",
    "<table>\n",
    "    <tr>\n",
    "        <td></td>\n",
    "        <td>validator_1</td>\n",
    "        <td>validator_2</td>\n",
    "        <td>validator_3</td>\n",
    "        <td>amount</td>\n",
    "    </tr>\n",
    "    <tr>\n",
    "        <td>nominator_1</td>\n",
    "        <td>0</td>\n",
    "        <td>1</td>\n",
    "        <td>1</td>\n",
    "        <td>2137</td>\n",
    "    </tr>\n",
    "    <tr>\n",
    "        <td>nominator_2</td>\n",
    "        <td>1</td>\n",
    "        <td>0</td>\n",
    "        <td>0</td>\n",
    "        <td>420</td>\n",
    "    </tr>\n",
    "    <tr>\n",
    "        <td>nominator_3</td>\n",
    "        <td>0</td>\n",
    "        <td>0</td>\n",
    "        <td>1</td>\n",
    "        <td>666</td>\n",
    "    </tr>\n",
    "</table>\n",
    "\n",
    "- 1 if validator is assigned to nominator, 0 otherwise"
   ]
  },
  {
   "cell_type": "code",
   "execution_count": 3,
   "metadata": {},
   "outputs": [],
   "source": [
    "# Helper functions\n",
    "\n",
    "def getAmount(solution):\n",
    "    return solution[\"amount\"].sum()\n",
    "\n",
    "\n",
    "def getVariance(solution):\n",
    "    return solution[\"amount\"].var()\n",
    "\n",
    "def getAssignment(solution):\n",
    "    nominatorsAssignments = (solution.iloc[:, :-1] == 1).sum(axis=1)\n",
    "    return (nominatorsAssignments ** 2).sum()\n"
   ]
  }
 ],
 "metadata": {
  "kernelspec": {
   "display_name": "pc-env",
   "language": "python",
   "name": "python3"
  },
  "language_info": {
   "codemirror_mode": {
    "name": "ipython",
    "version": 3
   },
   "file_extension": ".py",
   "mimetype": "text/x-python",
   "name": "python",
   "nbconvert_exporter": "python",
   "pygments_lexer": "ipython3",
   "version": "3.12.7"
  }
 },
 "nbformat": 4,
 "nbformat_minor": 2
}
